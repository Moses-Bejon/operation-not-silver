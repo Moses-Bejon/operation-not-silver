{
 "cells": [
  {
   "cell_type": "markdown",
   "metadata": {},
   "source": [
    "# Using analyser.py\n",
    "\n",
    "Before use, check the kernel is one that has sklearn installed.\n",
    "Run the following block to train the model on all past data. "
   ]
  },
  {
   "cell_type": "code",
   "execution_count": 3,
   "metadata": {},
   "outputs": [],
   "source": [
    "from sklearn.ensemble import RandomForestClassifier\n",
    "from analyser import *\n"
   ]
  },
  {
   "cell_type": "markdown",
   "metadata": {},
   "source": [
    "\n",
    "Uncomment the appropriate line, and run following to train the model and save it.\n",
    "\n",
    "Run once, only run again when you want to retrain with different file."
   ]
  },
  {
   "cell_type": "code",
   "execution_count": null,
   "metadata": {},
   "outputs": [],
   "source": [
    "# filename = generateAllCSV()\n",
    "# filename = generateYearsCSV(2022,2023)"
   ]
  },
  {
   "cell_type": "code",
   "execution_count": 6,
   "metadata": {},
   "outputs": [
    {
     "name": "stdout",
     "output_type": "stream",
     "text": [
      "Training accuracy: 1.0\n",
      "Test accuracy: 1.0\n"
     ]
    }
   ],
   "source": [
    "X, y = get_X_y(filename)\n",
    "model = RandomForestClassifier()\n",
    "train_test(model, X, y)\n",
    "saveModel(model, 'allRF')\n"
   ]
  },
  {
   "cell_type": "markdown",
   "metadata": {},
   "source": [
    "Here loads the model and predicts. "
   ]
  },
  {
   "cell_type": "code",
   "execution_count": 8,
   "metadata": {},
   "outputs": [
    {
     "name": "stdout",
     "output_type": "stream",
     "text": [
      "Predicted:block transposition\n"
     ]
    }
   ],
   "source": [
    "model = loadModel('allRF')\n",
    "testfile = 'test_ciphertext.txt'\n",
    "label = predict_text(model, testfile)\n",
    "print(\"Predicted:\" + label[0])\n"
   ]
  },
  {
   "cell_type": "code",
   "execution_count": 9,
   "metadata": {},
   "outputs": [
    {
     "name": "stdout",
     "output_type": "stream",
     "text": [
      "CipherType\n",
      "monoalphabetic substitution                                             642\n",
      "vigenere                                                                147\n",
      "columnar transposition                                                   54\n",
      "block transposition                                                      39\n",
      "permutation                                                              12\n",
      "2x2 hill                                                                 12\n",
      "reverse the text, then                                                   12\n",
      "railfence                                                                 9\n",
      "solitaire                                                                 9\n",
      "hill                                                                      9\n",
      "polybius square                                                           6\n",
      "bifid                                                                     6\n",
      "beaufort                                                                  6\n",
      "permutation  (block transposition)                                        6\n",
      "modified playfair                                                         6\n",
      "playfair                                                                  6\n",
      "3x3 hill                                                                  6\n",
      "four-square                                                               3\n",
      "type 4 periodic polyalphabetic substitution , also called quagmire 4      3\n",
      "it is a bacon 5-bit . the ostensible text is                              3\n",
      "Name: count, dtype: int64\n"
     ]
    }
   ],
   "source": [
    "print(y.value_counts()[:20])"
   ]
  },
  {
   "cell_type": "code",
   "execution_count": null,
   "metadata": {},
   "outputs": [
    {
     "data": {
      "text/plain": [
       "array(['block transposition'], dtype=object)"
      ]
     },
     "execution_count": 7,
     "metadata": {},
     "output_type": "execute_result"
    }
   ],
   "source": [
    "\n",
    "predict_text(model, testfile)[0]"
   ]
  }
 ],
 "metadata": {
  "kernelspec": {
   "display_name": "titanic",
   "language": "python",
   "name": "python3"
  },
  "language_info": {
   "codemirror_mode": {
    "name": "ipython",
    "version": 3
   },
   "file_extension": ".py",
   "mimetype": "text/x-python",
   "name": "python",
   "nbconvert_exporter": "python",
   "pygments_lexer": "ipython3",
   "version": "3.12.6"
  }
 },
 "nbformat": 4,
 "nbformat_minor": 2
}
