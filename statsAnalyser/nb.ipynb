{
 "cells": [
  {
   "cell_type": "markdown",
   "metadata": {},
   "source": [
    "\n",
    "# Cipher classifier (developing analyser.py)\n",
    "\n",
    "Contents:\n",
    "1. Overview\n",
    "2. Data acquisition\n",
    "3. Feature Extraction\n",
    "4. Model training and Evaluation\n"
   ]
  },
  {
   "cell_type": "markdown",
   "metadata": {},
   "source": [
    "# 1. Overview\n",
    "For the National Cipher Challenge it would be helpful to identify ciphers as soon as possible. After Moses suggesting me make a statistics extractor that displays information like index of coincidence, I am going above and beyond to attempt to let ML do the job.\n",
    "\n",
    "# 2. Data acquisition"
   ]
  },
  {
   "cell_type": "markdown",
   "metadata": {},
   "source": [
    "This data is generated with the British National Cipher Challenge archive by themaddoctor on GitHub. Initially I thought to use our own corpus of Agatha Christie novels but the encryption process is going to take more time. \n",
    "I gave up on hand copying the desired details, and let ChatGPT deal with this nitty gritty. Might come back later to understand it.\n",
    "This code can soon be used for the whole data set as well. Having 9 or 10 challenges, each with two parts, gives 22 * 9 * 2 = 396 data points. Not massive, but easy and useful. One concern at the moment is how much monoalphabetic substitution ciphers there are causing underrepresentation of others.\n"
   ]
  },
  {
   "cell_type": "code",
   "execution_count": 87,
   "metadata": {},
   "outputs": [],
   "source": [
    "import pandas as pd"
   ]
  },
  {
   "cell_type": "code",
   "execution_count": 88,
   "metadata": {},
   "outputs": [
    {
     "name": "stdout",
     "output_type": "stream",
     "text": [
      "0                           Caesar shift cipher\n",
      "1            monoalphabetic substitution cipher\n",
      "2                                   Hill cipher\n",
      "3                            four-square cipher\n",
      "4                           Caesar shift cipher\n",
      "5                           Caesar shift cipher\n",
      "6                                 affine cipher\n",
      "7            monoalphabetic substitution cipher\n",
      "8            monoalphabetic substitution cipher\n",
      "9            monoalphabetic substitution cipher\n",
      "10           monoalphabetic substitution cipher\n",
      "11                           permutation cipher\n",
      "12           monoalphabetic substitution cipher\n",
      "13                              Vigenere cipher\n",
      "14                           permutation cipher\n",
      "15                  Morse code, Vigenere cipher\n",
      "16                              Vigenere cipher\n",
      "17    Morse code, columnar transposition cipher\n",
      "18                              Vigenere cipher\n",
      "19                              Polybius square\n",
      "20                                  Hill cipher\n",
      "21                 nihilist substitution cipher\n",
      "22                 nihilist substitution cipher\n",
      "23                 nihilist substitution cipher\n",
      "24                 nihilist substitution cipher\n",
      "Name: CipherType, dtype: object\n"
     ]
    }
   ],
   "source": [
    "cipher_data = pd.read_csv(\"2023_ciphertext_data.csv\")\n",
    "print(cipher_data['CipherType'])"
   ]
  },
  {
   "cell_type": "markdown",
   "metadata": {},
   "source": [
    "The only problem with this is how the titles of each challenge is included in the first line of ciphertext but not always, so slicing the first line might remove ciphertext. However, I am hoping it is rare enough an occurence to not affect results. I am using the 2023 challenges as my small set of data. With this small range of ciphers, I think this will work well in identifying monoalphabetic substitution ciphers at first. "
   ]
  },
  {
   "cell_type": "markdown",
   "metadata": {},
   "source": [
    "# 3. Feature extraction\n",
    "The evaluate.py file by Moses has included letter frequencies, IOC etc counters. They were initially used in hill-climb algorithms to measure how close to real text a decrypt is. I had been asked to write code that applies this analysis function to ciphertexts over periods, generating e.g. IOC at each period, i.e. extracting every nth letter and calculating the IOC of that, since that statistic would resemble the value for plain English when encrypted with the same key letter.\n",
    "\n",
    "I have attempted to refactor the calculateStatistics.py to work better with pandas by returning a dictionary."
   ]
  },
  {
   "cell_type": "code",
   "execution_count": null,
   "metadata": {},
   "outputs": [
    {
     "name": "stdout",
     "output_type": "stream",
     "text": [
      "Factors of length:  [1, 2, 3, 6, 9, 18]\n"
     ]
    },
    {
     "data": {
      "text/plain": [
       "{'lengthStats': [1, 2, 3, 6, 9, 18],\n",
       " 'monogramFitness': 0.6268193150739267,\n",
       " 'IOC': 0.0718954248366013,\n",
       " 'bigramIOC': 0.0,\n",
       " 'trigramIOC': 0.0,\n",
       " 'quadgramFrequenciesScore': -219.75729687081144}"
      ]
     },
     "execution_count": 89,
     "metadata": {},
     "output_type": "execute_result"
    }
   ],
   "source": [
    "import sys\n",
    "import os\n",
    "\n",
    "# Add the parent directory to the system path\n",
    "sys.path.append(os.path.abspath(os.path.join(os.getcwd(), '..')))\n",
    "\n",
    "# Now you can import the function\n",
    "from statsAnalyser.computeStatistics import getStatistics\n",
    "stats = getStatistics(\"1440 x 900  monitor looks so bad\") \n",
    "stats\n"
   ]
  },
  {
   "cell_type": "markdown",
   "metadata": {},
   "source": [
    "NOW I needto fix all this ;p/\n",
    "I discovered that whatever fixed path is going on in imported files, all of this is just gathered into the caller file and run, so paths are only usable if they correspond to the current file.\n",
    "\n",
    "For lengthStats there is lots of non-linearity that should mean a neural network performs better. I dont think we need it yet.\n",
    "\n",
    "Now we need to accomplish adding the stats for each ciphertext row. Just occured to me that I should clean the ciphertext's whitespaces as well."
   ]
  },
  {
   "cell_type": "code",
   "execution_count": 90,
   "metadata": {},
   "outputs": [
    {
     "data": {
      "text/html": [
       "<div>\n",
       "<style scoped>\n",
       "    .dataframe tbody tr th:only-of-type {\n",
       "        vertical-align: middle;\n",
       "    }\n",
       "\n",
       "    .dataframe tbody tr th {\n",
       "        vertical-align: top;\n",
       "    }\n",
       "\n",
       "    .dataframe thead th {\n",
       "        text-align: right;\n",
       "    }\n",
       "</style>\n",
       "<table border=\"1\" class=\"dataframe\">\n",
       "  <thead>\n",
       "    <tr style=\"text-align: right;\">\n",
       "      <th></th>\n",
       "      <th>Ciphertext</th>\n",
       "      <th>CipherType</th>\n",
       "      <th>lengthStats</th>\n",
       "      <th>monogramFitness</th>\n",
       "      <th>IOC</th>\n",
       "      <th>bigramIOC</th>\n",
       "      <th>trigramIOC</th>\n",
       "      <th>quadgramFrequenciesScore</th>\n",
       "    </tr>\n",
       "  </thead>\n",
       "  <tbody>\n",
       "    <tr>\n",
       "      <th>10</th>\n",
       "      <td>ROREP MRTFO AMISS SEISI SETYL ILTHE YRBRA GAOU...</td>\n",
       "      <td>permutation cipher</td>\n",
       "      <td>[1, 2, 5, 10, 193, 386, 965, 1930]</td>\n",
       "      <td>0.996043</td>\n",
       "      <td>0.064288</td>\n",
       "      <td>0.004670</td>\n",
       "      <td>0.000415</td>\n",
       "      <td>-36603.088546</td>\n",
       "    </tr>\n",
       "    <tr>\n",
       "      <th>13</th>\n",
       "      <td>JDEFO IOLWI LONUO NGPYU LAORS MSSTE AETHG IOGT...</td>\n",
       "      <td>permutation cipher</td>\n",
       "      <td>[1, 2, 17, 34, 73, 146, 1241, 2482]</td>\n",
       "      <td>0.996918</td>\n",
       "      <td>0.066226</td>\n",
       "      <td>0.005101</td>\n",
       "      <td>0.000523</td>\n",
       "      <td>-50671.609546</td>\n",
       "    </tr>\n",
       "  </tbody>\n",
       "</table>\n",
       "</div>"
      ],
      "text/plain": [
       "                                           Ciphertext          CipherType  \\\n",
       "10  ROREP MRTFO AMISS SEISI SETYL ILTHE YRBRA GAOU...  permutation cipher   \n",
       "13  JDEFO IOLWI LONUO NGPYU LAORS MSSTE AETHG IOGT...  permutation cipher   \n",
       "\n",
       "                            lengthStats  monogramFitness       IOC  bigramIOC  \\\n",
       "10   [1, 2, 5, 10, 193, 386, 965, 1930]         0.996043  0.064288   0.004670   \n",
       "13  [1, 2, 17, 34, 73, 146, 1241, 2482]         0.996918  0.066226   0.005101   \n",
       "\n",
       "    trigramIOC  quadgramFrequenciesScore  \n",
       "10    0.000415             -36603.088546  \n",
       "13    0.000523             -50671.609546  "
      ]
     },
     "execution_count": 90,
     "metadata": {},
     "output_type": "execute_result"
    }
   ],
   "source": [
    "cipher_stats = pd.read_csv(\"2023_ciphertext_data_stats.csv\")\n",
    "\n",
    "cipher_stats.loc[cipher_stats['CipherType'] == 'permutation cipher']"
   ]
  },
  {
   "cell_type": "code",
   "execution_count": 91,
   "metadata": {},
   "outputs": [
    {
     "data": {
      "text/plain": [
       "Ciphertext                  0\n",
       "CipherType                  0\n",
       "lengthStats                 0\n",
       "monogramFitness             0\n",
       "IOC                         0\n",
       "bigramIOC                   0\n",
       "trigramIOC                  0\n",
       "quadgramFrequenciesScore    0\n",
       "dtype: int64"
      ]
     },
     "execution_count": 91,
     "metadata": {},
     "output_type": "execute_result"
    }
   ],
   "source": [
    "cipher_stats.dropna(axis=0, inplace=True) # removes missing values. Didn't know that inplace would be something to think about.\n",
    "cipher_stats.isnull().sum()\n"
   ]
  },
  {
   "cell_type": "markdown",
   "metadata": {},
   "source": [
    "Let's check that the scores are fairly normalised.\n",
    "- problem with codes and doubled ciphers - it's like the MNIST two overlapping digits. We can try train that later.\n",
    "- problem with numerical ciphers - the stats just don't apply! Polybius etc.\n",
    "For now, substitution ciphers look fine around 0.068 for IOC regardless of length.\n",
    "- permutation ciphers have high monogram fitness scores and IOC since they are just normal letters jumbled up.\n",
    "- to identify periodic vigenere, there has to be a measure that extracts key insights from the graph that computeStatistics would give. Or just dump everything...\n",
    "- For Hill and other ngram substitution like Playfair, where one digram maps to another, we will need the block IOC. Which is the bigram and trigram IOC. Some things might overfit for Hill looking at the presence of 2 or 3 as a factor, since that is probably all data available.\n",
    "\n",
    "\n",
    "- new issue: some solution.txt do not provide simply the cipher name. e.g. 2005 7B gives a long solution. Anything longer than say 20 characters should be weeded out. Alternatively, just dictionary search the whole text for cipher names. for now i think double encryptions should be ignored for now.\n",
    "- would love numbers to be recognised as well somehow in the future.\n"
   ]
  },
  {
   "cell_type": "markdown",
   "metadata": {},
   "source": [
    "Now, let's try to train on monoalphabetic-or-not."
   ]
  },
  {
   "cell_type": "code",
   "execution_count": 92,
   "metadata": {},
   "outputs": [
    {
     "data": {
      "text/plain": [
       "(17, 5)"
      ]
     },
     "execution_count": 92,
     "metadata": {},
     "output_type": "execute_result"
    }
   ],
   "source": [
    "\n",
    "# Getting our data split into X and y\n",
    "\n",
    "y = cipher_stats.pop('CipherType')\n",
    "X = cipher_stats.drop(['Ciphertext', 'lengthStats'], axis=1) # remove columns (axis 1)\n",
    "\n",
    "X.head()\n",
    "X.shape\n",
    "\n"
   ]
  },
  {
   "cell_type": "code",
   "execution_count": 93,
   "metadata": {},
   "outputs": [
    {
     "name": "stdout",
     "output_type": "stream",
     "text": [
      "['monoalphabetic substitution cipher' 'monoalphabetic substitution cipher'\n",
      " 'monoalphabetic substitution cipher' 'monoalphabetic substitution cipher'\n",
      " 'monoalphabetic substitution cipher' 'monoalphabetic substitution cipher'\n",
      " 'monoalphabetic substitution cipher' 'monoalphabetic substitution cipher'\n",
      " 'monoalphabetic substitution cipher' 'monoalphabetic substitution cipher'\n",
      " 'monoalphabetic substitution cipher' 'monoalphabetic substitution cipher'\n",
      " 'monoalphabetic substitution cipher' 'monoalphabetic substitution cipher'\n",
      " 'monoalphabetic substitution cipher']\n",
      "Training accuracy: 0.4\n",
      "Test accuracy: 0.0\n"
     ]
    }
   ],
   "source": [
    "from sklearn.svm import LinearSVC\n",
    "from sklearn import model_selection\n",
    "def svc_train_predict(X, y):\n",
    "        \n",
    "    train_x, test_x, train_y, test_y = model_selection.train_test_split(\n",
    "    X, y, train_size=0.9)\n",
    "    svm = LinearSVC()\n",
    "    svm.fit(train_x, train_y)\n",
    "    print(svm.predict(train_x))\n",
    "\n",
    "    print(f\"Training accuracy: {svm.score(train_x,train_y)}\")\n",
    "    print(f\"Test accuracy: {svm.score(test_x,test_y)}\")\n",
    "\n",
    "# OBsolete bc train test split exists - Get ourselves a 30% testing set\n",
    "# index = X.shape[0] * 2 // 3\n",
    "# train_x = X[:index]\n",
    "# train_y = y[:index]\n",
    "# test_x = X[index:]\n",
    "# test_y = y[index:]\n",
    "\n",
    "# train_x.shape\n",
    "\n",
    "svc_train_predict(X, y)"
   ]
  },
  {
   "cell_type": "markdown",
   "metadata": {},
   "source": [
    "Great... it thinks everything's a monoalphabetic. Representation wise, yes, that gets more training data.\n",
    "Let's actually make it multiclass...\n"
   ]
  },
  {
   "cell_type": "markdown",
   "metadata": {},
   "source": [
    "A second run made me realise a problem: Caesar, atbash, affine are all monoalphabetic substitution ciphers and we should probably replace Caesar with mono, since they are pretty much identical. This should boost our accuracy.\n",
    "Another observation is that the four-square is a standout due to it's monstrous quadram fitness score."
   ]
  },
  {
   "cell_type": "code",
   "execution_count": 94,
   "metadata": {},
   "outputs": [
    {
     "data": {
      "text/plain": [
       "0     monoalphabetic substitution cipher\n",
       "1                            Hill cipher\n",
       "2                     four-square cipher\n",
       "3     monoalphabetic substitution cipher\n",
       "4     monoalphabetic substitution cipher\n",
       "5     monoalphabetic substitution cipher\n",
       "6     monoalphabetic substitution cipher\n",
       "7     monoalphabetic substitution cipher\n",
       "8     monoalphabetic substitution cipher\n",
       "9     monoalphabetic substitution cipher\n",
       "10                    permutation cipher\n",
       "11    monoalphabetic substitution cipher\n",
       "12                       Vigenere cipher\n",
       "13                    permutation cipher\n",
       "15                       Vigenere cipher\n",
       "17                       Vigenere cipher\n",
       "19                           Hill cipher\n",
       "Name: CipherType, dtype: object"
      ]
     },
     "execution_count": 94,
     "metadata": {},
     "output_type": "execute_result"
    }
   ],
   "source": [
    "# best to finally refactor as a whole data cleansing section in the end\n",
    "\n",
    "y.replace(\"Caesar shift cipher\", \"monoalphabetic substitution cipher\", inplace=True)\n",
    "y.replace(\"affine cipher\", \"monoalphabetic substitution cipher\", inplace=True)\n",
    "y.replace(\"atbash cipher\", \"monoalphabetic substitution cipher\", inplace=True)\n",
    "y.head(20)"
   ]
  },
  {
   "cell_type": "code",
   "execution_count": 95,
   "metadata": {},
   "outputs": [
    {
     "name": "stdout",
     "output_type": "stream",
     "text": [
      "['monoalphabetic substitution cipher' 'monoalphabetic substitution cipher'\n",
      " 'four-square cipher' 'monoalphabetic substitution cipher'\n",
      " 'monoalphabetic substitution cipher' 'monoalphabetic substitution cipher'\n",
      " 'monoalphabetic substitution cipher' 'monoalphabetic substitution cipher'\n",
      " 'monoalphabetic substitution cipher' 'monoalphabetic substitution cipher'\n",
      " 'monoalphabetic substitution cipher' 'monoalphabetic substitution cipher'\n",
      " 'monoalphabetic substitution cipher' 'monoalphabetic substitution cipher'\n",
      " 'monoalphabetic substitution cipher']\n",
      "Training accuracy: 0.6\n",
      "Test accuracy: 0.5\n"
     ]
    }
   ],
   "source": [
    "svc_train_predict(X, y)"
   ]
  },
  {
   "cell_type": "markdown",
   "metadata": {},
   "source": [
    "Improved slightly, given that we still don't have the periodicity data for Vigenere, and not sure about how Hill would work...\n",
    "Vigenere is Caesar but only taken every nth. We need to account for a 'spike' of IOC in one period, perhaps take the difference between the average and max of all assumed key lengths.\n",
    "\n",
    "For permutation, it should have a monogram fitness close to 1 and close to 0.068 IOC (un-normalised). In an SVM, a linear classification method, the IOC as-is is pretty useless because it is not linearly separable. If you had only the IOC as a feature, you'd have:\n",
    "\n",
    "-----x------\\*-\\*----x--\n",
    "\n",
    "0__0.05__0.068__ 0.1\n",
    "\n",
    "Along the number line, where * represents permutation cipher data points, you need two point separators to classify a range of acceptable deviation values from 0.068. \n",
    "So why not take the net deviation from 0.068?\n"
   ]
  },
  {
   "cell_type": "code",
   "execution_count": 96,
   "metadata": {},
   "outputs": [
    {
     "data": {
      "text/html": [
       "<div>\n",
       "<style scoped>\n",
       "    .dataframe tbody tr th:only-of-type {\n",
       "        vertical-align: middle;\n",
       "    }\n",
       "\n",
       "    .dataframe tbody tr th {\n",
       "        vertical-align: top;\n",
       "    }\n",
       "\n",
       "    .dataframe thead th {\n",
       "        text-align: right;\n",
       "    }\n",
       "</style>\n",
       "<table border=\"1\" class=\"dataframe\">\n",
       "  <thead>\n",
       "    <tr style=\"text-align: right;\">\n",
       "      <th></th>\n",
       "      <th>monogramFitness</th>\n",
       "      <th>IOC</th>\n",
       "      <th>bigramIOC</th>\n",
       "      <th>trigramIOC</th>\n",
       "      <th>quadgramFrequenciesScore</th>\n",
       "      <th>differenceIOC</th>\n",
       "    </tr>\n",
       "  </thead>\n",
       "  <tbody>\n",
       "    <tr>\n",
       "      <th>0</th>\n",
       "      <td>0.621285</td>\n",
       "      <td>0.061796</td>\n",
       "      <td>0.006346</td>\n",
       "      <td>0.001269</td>\n",
       "      <td>-9876.094958</td>\n",
       "      <td>-5.082523</td>\n",
       "    </tr>\n",
       "    <tr>\n",
       "      <th>1</th>\n",
       "      <td>0.794419</td>\n",
       "      <td>0.041249</td>\n",
       "      <td>0.007262</td>\n",
       "      <td>0.000408</td>\n",
       "      <td>-30829.986645</td>\n",
       "      <td>-3.621180</td>\n",
       "    </tr>\n",
       "    <tr>\n",
       "      <th>2</th>\n",
       "      <td>0.786917</td>\n",
       "      <td>0.046987</td>\n",
       "      <td>0.007767</td>\n",
       "      <td>0.000513</td>\n",
       "      <td>-102883.093764</td>\n",
       "      <td>-3.862635</td>\n",
       "    </tr>\n",
       "    <tr>\n",
       "      <th>3</th>\n",
       "      <td>0.667307</td>\n",
       "      <td>0.067042</td>\n",
       "      <td>0.008231</td>\n",
       "      <td>0.001346</td>\n",
       "      <td>-38343.925193</td>\n",
       "      <td>-6.950488</td>\n",
       "    </tr>\n",
       "    <tr>\n",
       "      <th>4</th>\n",
       "      <td>0.526117</td>\n",
       "      <td>0.064788</td>\n",
       "      <td>0.007085</td>\n",
       "      <td>0.001930</td>\n",
       "      <td>-29829.060086</td>\n",
       "      <td>-5.740787</td>\n",
       "    </tr>\n",
       "    <tr>\n",
       "      <th>5</th>\n",
       "      <td>0.547506</td>\n",
       "      <td>0.068899</td>\n",
       "      <td>0.007545</td>\n",
       "      <td>0.001530</td>\n",
       "      <td>-32994.187883</td>\n",
       "      <td>-7.014537</td>\n",
       "    </tr>\n",
       "    <tr>\n",
       "      <th>6</th>\n",
       "      <td>0.515992</td>\n",
       "      <td>0.065243</td>\n",
       "      <td>0.007623</td>\n",
       "      <td>0.001529</td>\n",
       "      <td>-23974.702148</td>\n",
       "      <td>-5.893585</td>\n",
       "    </tr>\n",
       "    <tr>\n",
       "      <th>7</th>\n",
       "      <td>0.647638</td>\n",
       "      <td>0.068096</td>\n",
       "      <td>0.007995</td>\n",
       "      <td>0.001477</td>\n",
       "      <td>-47588.393022</td>\n",
       "      <td>-9.251265</td>\n",
       "    </tr>\n",
       "    <tr>\n",
       "      <th>8</th>\n",
       "      <td>0.579257</td>\n",
       "      <td>0.067529</td>\n",
       "      <td>0.007788</td>\n",
       "      <td>0.001681</td>\n",
       "      <td>-35252.356382</td>\n",
       "      <td>-7.660395</td>\n",
       "    </tr>\n",
       "    <tr>\n",
       "      <th>9</th>\n",
       "      <td>0.747297</td>\n",
       "      <td>0.068092</td>\n",
       "      <td>0.007877</td>\n",
       "      <td>0.001710</td>\n",
       "      <td>-32718.500586</td>\n",
       "      <td>-9.292394</td>\n",
       "    </tr>\n",
       "    <tr>\n",
       "      <th>10</th>\n",
       "      <td>0.996043</td>\n",
       "      <td>0.064288</td>\n",
       "      <td>0.004670</td>\n",
       "      <td>0.000415</td>\n",
       "      <td>-36603.088546</td>\n",
       "      <td>-5.596163</td>\n",
       "    </tr>\n",
       "    <tr>\n",
       "      <th>11</th>\n",
       "      <td>0.698627</td>\n",
       "      <td>0.069721</td>\n",
       "      <td>0.009550</td>\n",
       "      <td>0.002083</td>\n",
       "      <td>-44044.515008</td>\n",
       "      <td>-6.365056</td>\n",
       "    </tr>\n",
       "    <tr>\n",
       "      <th>12</th>\n",
       "      <td>0.771577</td>\n",
       "      <td>0.043409</td>\n",
       "      <td>0.002644</td>\n",
       "      <td>0.000280</td>\n",
       "      <td>-33612.676956</td>\n",
       "      <td>-3.705392</td>\n",
       "    </tr>\n",
       "    <tr>\n",
       "      <th>13</th>\n",
       "      <td>0.996918</td>\n",
       "      <td>0.066226</td>\n",
       "      <td>0.005101</td>\n",
       "      <td>0.000523</td>\n",
       "      <td>-50671.609546</td>\n",
       "      <td>-6.334404</td>\n",
       "    </tr>\n",
       "    <tr>\n",
       "      <th>15</th>\n",
       "      <td>0.694023</td>\n",
       "      <td>0.042661</td>\n",
       "      <td>0.003784</td>\n",
       "      <td>0.001011</td>\n",
       "      <td>-50103.248180</td>\n",
       "      <td>-3.675411</td>\n",
       "    </tr>\n",
       "    <tr>\n",
       "      <th>17</th>\n",
       "      <td>0.693872</td>\n",
       "      <td>0.046285</td>\n",
       "      <td>0.005313</td>\n",
       "      <td>0.000479</td>\n",
       "      <td>-28823.732420</td>\n",
       "      <td>-3.829756</td>\n",
       "    </tr>\n",
       "    <tr>\n",
       "      <th>19</th>\n",
       "      <td>0.939540</td>\n",
       "      <td>0.048736</td>\n",
       "      <td>0.008726</td>\n",
       "      <td>0.000795</td>\n",
       "      <td>-49694.361720</td>\n",
       "      <td>-3.949525</td>\n",
       "    </tr>\n",
       "  </tbody>\n",
       "</table>\n",
       "</div>"
      ],
      "text/plain": [
       "    monogramFitness       IOC  bigramIOC  trigramIOC  \\\n",
       "0          0.621285  0.061796   0.006346    0.001269   \n",
       "1          0.794419  0.041249   0.007262    0.000408   \n",
       "2          0.786917  0.046987   0.007767    0.000513   \n",
       "3          0.667307  0.067042   0.008231    0.001346   \n",
       "4          0.526117  0.064788   0.007085    0.001930   \n",
       "5          0.547506  0.068899   0.007545    0.001530   \n",
       "6          0.515992  0.065243   0.007623    0.001529   \n",
       "7          0.647638  0.068096   0.007995    0.001477   \n",
       "8          0.579257  0.067529   0.007788    0.001681   \n",
       "9          0.747297  0.068092   0.007877    0.001710   \n",
       "10         0.996043  0.064288   0.004670    0.000415   \n",
       "11         0.698627  0.069721   0.009550    0.002083   \n",
       "12         0.771577  0.043409   0.002644    0.000280   \n",
       "13         0.996918  0.066226   0.005101    0.000523   \n",
       "15         0.694023  0.042661   0.003784    0.001011   \n",
       "17         0.693872  0.046285   0.005313    0.000479   \n",
       "19         0.939540  0.048736   0.008726    0.000795   \n",
       "\n",
       "    quadgramFrequenciesScore  differenceIOC  \n",
       "0               -9876.094958      -5.082523  \n",
       "1              -30829.986645      -3.621180  \n",
       "2             -102883.093764      -3.862635  \n",
       "3              -38343.925193      -6.950488  \n",
       "4              -29829.060086      -5.740787  \n",
       "5              -32994.187883      -7.014537  \n",
       "6              -23974.702148      -5.893585  \n",
       "7              -47588.393022      -9.251265  \n",
       "8              -35252.356382      -7.660395  \n",
       "9              -32718.500586      -9.292394  \n",
       "10             -36603.088546      -5.596163  \n",
       "11             -44044.515008      -6.365056  \n",
       "12             -33612.676956      -3.705392  \n",
       "13             -50671.609546      -6.334404  \n",
       "15             -50103.248180      -3.675411  \n",
       "17             -28823.732420      -3.829756  \n",
       "19             -49694.361720      -3.949525  "
      ]
     },
     "execution_count": 96,
     "metadata": {},
     "output_type": "execute_result"
    }
   ],
   "source": [
    "from math import log\n",
    "\n",
    "def difference_IOC(ioc, expected_ioc=0.068):\n",
    "    return log(abs(ioc - expected_ioc)) # not sure if I should square it? no log to the rescue!!\n",
    "X['differenceIOC'] = X['IOC'].apply(difference_IOC)\n",
    "X.head(20)"
   ]
  },
  {
   "cell_type": "code",
   "execution_count": 97,
   "metadata": {},
   "outputs": [
    {
     "name": "stdout",
     "output_type": "stream",
     "text": [
      "['Vigenere cipher' 'monoalphabetic substitution cipher'\n",
      " 'monoalphabetic substitution cipher' 'monoalphabetic substitution cipher'\n",
      " 'monoalphabetic substitution cipher' 'monoalphabetic substitution cipher'\n",
      " 'four-square cipher' 'monoalphabetic substitution cipher'\n",
      " 'monoalphabetic substitution cipher' 'Vigenere cipher' 'Vigenere cipher'\n",
      " 'Vigenere cipher' 'monoalphabetic substitution cipher' 'Vigenere cipher'\n",
      " 'monoalphabetic substitution cipher']\n",
      "Training accuracy: 0.7333333333333333\n",
      "Test accuracy: 0.5\n"
     ]
    }
   ],
   "source": [
    "svc_train_predict(X, y)"
   ]
  },
  {
   "cell_type": "markdown",
   "metadata": {},
   "source": [
    "This is insane! Permutation is sadly still not on hte list, but Vigenere and Hill had some random appearances. I'll try make a high monogram fitness stick out.locals"
   ]
  },
  {
   "cell_type": "code",
   "execution_count": 98,
   "metadata": {},
   "outputs": [],
   "source": [
    "X['logMonogramFitness'] = X['monogramFitness'].apply(lambda x: log(x)*100)"
   ]
  },
  {
   "cell_type": "code",
   "execution_count": 99,
   "metadata": {},
   "outputs": [
    {
     "data": {
      "text/html": [
       "<div>\n",
       "<style scoped>\n",
       "    .dataframe tbody tr th:only-of-type {\n",
       "        vertical-align: middle;\n",
       "    }\n",
       "\n",
       "    .dataframe tbody tr th {\n",
       "        vertical-align: top;\n",
       "    }\n",
       "\n",
       "    .dataframe thead th {\n",
       "        text-align: right;\n",
       "    }\n",
       "</style>\n",
       "<table border=\"1\" class=\"dataframe\">\n",
       "  <thead>\n",
       "    <tr style=\"text-align: right;\">\n",
       "      <th></th>\n",
       "      <th>monogramFitness</th>\n",
       "      <th>IOC</th>\n",
       "      <th>bigramIOC</th>\n",
       "      <th>trigramIOC</th>\n",
       "      <th>quadgramFrequenciesScore</th>\n",
       "      <th>differenceIOC</th>\n",
       "      <th>logMonogramFitness</th>\n",
       "    </tr>\n",
       "  </thead>\n",
       "  <tbody>\n",
       "    <tr>\n",
       "      <th>0</th>\n",
       "      <td>0.621285</td>\n",
       "      <td>0.061796</td>\n",
       "      <td>0.006346</td>\n",
       "      <td>0.001269</td>\n",
       "      <td>-9876.094958</td>\n",
       "      <td>-5.082523</td>\n",
       "      <td>-47.596584</td>\n",
       "    </tr>\n",
       "    <tr>\n",
       "      <th>1</th>\n",
       "      <td>0.794419</td>\n",
       "      <td>0.041249</td>\n",
       "      <td>0.007262</td>\n",
       "      <td>0.000408</td>\n",
       "      <td>-30829.986645</td>\n",
       "      <td>-3.621180</td>\n",
       "      <td>-23.014463</td>\n",
       "    </tr>\n",
       "    <tr>\n",
       "      <th>2</th>\n",
       "      <td>0.786917</td>\n",
       "      <td>0.046987</td>\n",
       "      <td>0.007767</td>\n",
       "      <td>0.000513</td>\n",
       "      <td>-102883.093764</td>\n",
       "      <td>-3.862635</td>\n",
       "      <td>-23.963246</td>\n",
       "    </tr>\n",
       "    <tr>\n",
       "      <th>3</th>\n",
       "      <td>0.667307</td>\n",
       "      <td>0.067042</td>\n",
       "      <td>0.008231</td>\n",
       "      <td>0.001346</td>\n",
       "      <td>-38343.925193</td>\n",
       "      <td>-6.950488</td>\n",
       "      <td>-40.450441</td>\n",
       "    </tr>\n",
       "    <tr>\n",
       "      <th>4</th>\n",
       "      <td>0.526117</td>\n",
       "      <td>0.064788</td>\n",
       "      <td>0.007085</td>\n",
       "      <td>0.001930</td>\n",
       "      <td>-29829.060086</td>\n",
       "      <td>-5.740787</td>\n",
       "      <td>-64.223233</td>\n",
       "    </tr>\n",
       "    <tr>\n",
       "      <th>5</th>\n",
       "      <td>0.547506</td>\n",
       "      <td>0.068899</td>\n",
       "      <td>0.007545</td>\n",
       "      <td>0.001530</td>\n",
       "      <td>-32994.187883</td>\n",
       "      <td>-7.014537</td>\n",
       "      <td>-60.238270</td>\n",
       "    </tr>\n",
       "    <tr>\n",
       "      <th>6</th>\n",
       "      <td>0.515992</td>\n",
       "      <td>0.065243</td>\n",
       "      <td>0.007623</td>\n",
       "      <td>0.001529</td>\n",
       "      <td>-23974.702148</td>\n",
       "      <td>-5.893585</td>\n",
       "      <td>-66.166400</td>\n",
       "    </tr>\n",
       "    <tr>\n",
       "      <th>7</th>\n",
       "      <td>0.647638</td>\n",
       "      <td>0.068096</td>\n",
       "      <td>0.007995</td>\n",
       "      <td>0.001477</td>\n",
       "      <td>-47588.393022</td>\n",
       "      <td>-9.251265</td>\n",
       "      <td>-43.442353</td>\n",
       "    </tr>\n",
       "    <tr>\n",
       "      <th>8</th>\n",
       "      <td>0.579257</td>\n",
       "      <td>0.067529</td>\n",
       "      <td>0.007788</td>\n",
       "      <td>0.001681</td>\n",
       "      <td>-35252.356382</td>\n",
       "      <td>-7.660395</td>\n",
       "      <td>-54.600892</td>\n",
       "    </tr>\n",
       "    <tr>\n",
       "      <th>9</th>\n",
       "      <td>0.747297</td>\n",
       "      <td>0.068092</td>\n",
       "      <td>0.007877</td>\n",
       "      <td>0.001710</td>\n",
       "      <td>-32718.500586</td>\n",
       "      <td>-9.292394</td>\n",
       "      <td>-29.129238</td>\n",
       "    </tr>\n",
       "    <tr>\n",
       "      <th>10</th>\n",
       "      <td>0.996043</td>\n",
       "      <td>0.064288</td>\n",
       "      <td>0.004670</td>\n",
       "      <td>0.000415</td>\n",
       "      <td>-36603.088546</td>\n",
       "      <td>-5.596163</td>\n",
       "      <td>-0.396484</td>\n",
       "    </tr>\n",
       "    <tr>\n",
       "      <th>11</th>\n",
       "      <td>0.698627</td>\n",
       "      <td>0.069721</td>\n",
       "      <td>0.009550</td>\n",
       "      <td>0.002083</td>\n",
       "      <td>-44044.515008</td>\n",
       "      <td>-6.365056</td>\n",
       "      <td>-35.863801</td>\n",
       "    </tr>\n",
       "    <tr>\n",
       "      <th>12</th>\n",
       "      <td>0.771577</td>\n",
       "      <td>0.043409</td>\n",
       "      <td>0.002644</td>\n",
       "      <td>0.000280</td>\n",
       "      <td>-33612.676956</td>\n",
       "      <td>-3.705392</td>\n",
       "      <td>-25.931827</td>\n",
       "    </tr>\n",
       "    <tr>\n",
       "      <th>13</th>\n",
       "      <td>0.996918</td>\n",
       "      <td>0.066226</td>\n",
       "      <td>0.005101</td>\n",
       "      <td>0.000523</td>\n",
       "      <td>-50671.609546</td>\n",
       "      <td>-6.334404</td>\n",
       "      <td>-0.308658</td>\n",
       "    </tr>\n",
       "    <tr>\n",
       "      <th>15</th>\n",
       "      <td>0.694023</td>\n",
       "      <td>0.042661</td>\n",
       "      <td>0.003784</td>\n",
       "      <td>0.001011</td>\n",
       "      <td>-50103.248180</td>\n",
       "      <td>-3.675411</td>\n",
       "      <td>-36.524999</td>\n",
       "    </tr>\n",
       "    <tr>\n",
       "      <th>17</th>\n",
       "      <td>0.693872</td>\n",
       "      <td>0.046285</td>\n",
       "      <td>0.005313</td>\n",
       "      <td>0.000479</td>\n",
       "      <td>-28823.732420</td>\n",
       "      <td>-3.829756</td>\n",
       "      <td>-36.546777</td>\n",
       "    </tr>\n",
       "    <tr>\n",
       "      <th>19</th>\n",
       "      <td>0.939540</td>\n",
       "      <td>0.048736</td>\n",
       "      <td>0.008726</td>\n",
       "      <td>0.000795</td>\n",
       "      <td>-49694.361720</td>\n",
       "      <td>-3.949525</td>\n",
       "      <td>-6.236533</td>\n",
       "    </tr>\n",
       "  </tbody>\n",
       "</table>\n",
       "</div>"
      ],
      "text/plain": [
       "    monogramFitness       IOC  bigramIOC  trigramIOC  \\\n",
       "0          0.621285  0.061796   0.006346    0.001269   \n",
       "1          0.794419  0.041249   0.007262    0.000408   \n",
       "2          0.786917  0.046987   0.007767    0.000513   \n",
       "3          0.667307  0.067042   0.008231    0.001346   \n",
       "4          0.526117  0.064788   0.007085    0.001930   \n",
       "5          0.547506  0.068899   0.007545    0.001530   \n",
       "6          0.515992  0.065243   0.007623    0.001529   \n",
       "7          0.647638  0.068096   0.007995    0.001477   \n",
       "8          0.579257  0.067529   0.007788    0.001681   \n",
       "9          0.747297  0.068092   0.007877    0.001710   \n",
       "10         0.996043  0.064288   0.004670    0.000415   \n",
       "11         0.698627  0.069721   0.009550    0.002083   \n",
       "12         0.771577  0.043409   0.002644    0.000280   \n",
       "13         0.996918  0.066226   0.005101    0.000523   \n",
       "15         0.694023  0.042661   0.003784    0.001011   \n",
       "17         0.693872  0.046285   0.005313    0.000479   \n",
       "19         0.939540  0.048736   0.008726    0.000795   \n",
       "\n",
       "    quadgramFrequenciesScore  differenceIOC  logMonogramFitness  \n",
       "0               -9876.094958      -5.082523          -47.596584  \n",
       "1              -30829.986645      -3.621180          -23.014463  \n",
       "2             -102883.093764      -3.862635          -23.963246  \n",
       "3              -38343.925193      -6.950488          -40.450441  \n",
       "4              -29829.060086      -5.740787          -64.223233  \n",
       "5              -32994.187883      -7.014537          -60.238270  \n",
       "6              -23974.702148      -5.893585          -66.166400  \n",
       "7              -47588.393022      -9.251265          -43.442353  \n",
       "8              -35252.356382      -7.660395          -54.600892  \n",
       "9              -32718.500586      -9.292394          -29.129238  \n",
       "10             -36603.088546      -5.596163           -0.396484  \n",
       "11             -44044.515008      -6.365056          -35.863801  \n",
       "12             -33612.676956      -3.705392          -25.931827  \n",
       "13             -50671.609546      -6.334404           -0.308658  \n",
       "15             -50103.248180      -3.675411          -36.524999  \n",
       "17             -28823.732420      -3.829756          -36.546777  \n",
       "19             -49694.361720      -3.949525           -6.236533  "
      ]
     },
     "execution_count": 99,
     "metadata": {},
     "output_type": "execute_result"
    }
   ],
   "source": [
    "X.head(20)\n"
   ]
  },
  {
   "cell_type": "code",
   "execution_count": 100,
   "metadata": {},
   "outputs": [
    {
     "name": "stdout",
     "output_type": "stream",
     "text": [
      "['monoalphabetic substitution cipher' 'monoalphabetic substitution cipher'\n",
      " 'monoalphabetic substitution cipher' 'monoalphabetic substitution cipher'\n",
      " 'monoalphabetic substitution cipher' 'permutation cipher'\n",
      " 'monoalphabetic substitution cipher' 'Vigenere cipher'\n",
      " 'monoalphabetic substitution cipher' 'permutation cipher'\n",
      " 'Vigenere cipher' 'monoalphabetic substitution cipher'\n",
      " 'monoalphabetic substitution cipher' 'Hill cipher'\n",
      " 'monoalphabetic substitution cipher']\n",
      "Training accuracy: 0.8666666666666667\n",
      "Test accuracy: 0.5\n"
     ]
    }
   ],
   "source": [
    "svc_train_predict(X, y)\n"
   ]
  },
  {
   "cell_type": "markdown",
   "metadata": {},
   "source": [
    "WE GOT OUR PERMUTATION CIPHER APPEARANCE LESGOOOO!! Although still not sure of how Hill got there. Let's see what it's getting right:\n"
   ]
  },
  {
   "cell_type": "code",
   "execution_count": 101,
   "metadata": {},
   "outputs": [
    {
     "name": "stdout",
     "output_type": "stream",
     "text": [
      "Actual:monoalphabetic substitution cipher Predicted:monoalphabetic substitution cipher\n",
      "Actual:Hill cipher Predicted:Vigenere cipher\n",
      "Actual:four-square cipher Predicted:four-square cipher\n",
      "Actual:monoalphabetic substitution cipher Predicted:monoalphabetic substitution cipher\n",
      "Actual:monoalphabetic substitution cipher Predicted:monoalphabetic substitution cipher\n",
      "Actual:monoalphabetic substitution cipher Predicted:monoalphabetic substitution cipher\n",
      "Actual:monoalphabetic substitution cipher Predicted:monoalphabetic substitution cipher\n",
      "Actual:monoalphabetic substitution cipher Predicted:monoalphabetic substitution cipher\n",
      "Actual:monoalphabetic substitution cipher Predicted:monoalphabetic substitution cipher\n",
      "Actual:monoalphabetic substitution cipher Predicted:monoalphabetic substitution cipher\n",
      "Actual:permutation cipher Predicted:permutation cipher\n",
      "Actual:monoalphabetic substitution cipher Predicted:monoalphabetic substitution cipher\n",
      "Actual:Vigenere cipher Predicted:Vigenere cipher\n",
      "Actual:permutation cipher Predicted:permutation cipher\n",
      "Actual:Vigenere cipher Predicted:Vigenere cipher\n",
      "Actual:Vigenere cipher Predicted:monoalphabetic substitution cipher\n",
      "Actual:Hill cipher Predicted:permutation cipher\n",
      "Training accuracy: 0.8666666666666667\n",
      "Actual:monoalphabetic substitution cipher Predicted:monoalphabetic substitution cipher\n",
      "Actual:permutation cipher Predicted:Hill cipher\n",
      "Test accuracy: 0.5\n"
     ]
    }
   ],
   "source": [
    "svm = LinearSVC()\n",
    "\n",
    "def svc_train_predict(X, y, drop_diff=False, drop_logmono=False):\n",
    "    if drop_diff:\n",
    "        X.drop(columns='differenceIOC')\n",
    "    else:\n",
    "        X.drop(columns='IOC')\n",
    "    if drop_logmono:\n",
    "        X.drop(columns='logMonogramFitness')\n",
    "    train_x, test_x, train_y, test_y = model_selection.train_test_split(\n",
    "    X, y, train_size=0.9)\n",
    "    svm.fit(X, y)\n",
    "    for predicted, real in zip(svm.predict(X), y):\n",
    "        print(\"Actual:\"+real, \"Predicted:\"+predicted)\n",
    "\n",
    "    print(f\"Training accuracy: {svm.score(train_x,train_y)}\")\n",
    "    \n",
    "    for real, predicted in zip(svm.predict(test_x), test_y):\n",
    "        print(\"Actual:\"+real, \"Predicted:\"+predicted)\n",
    "    print(f\"Test accuracy: {svm.score(test_x,test_y)}\")\n",
    "svc_train_predict(X, y)\n",
    "\n",
    "# X.drop(['differenceIOC', 'monogramFitness', 'logMonogramFitness'],axis=1)\n",
    "# train_predict(X, y)\n"
   ]
  },
  {
   "cell_type": "markdown",
   "metadata": {},
   "source": [
    "Here we can see:\n",
    "- Vigenere is ok. Mono also predicted, which is fair due to Vigenere being Caesar shifts in nature... we REALLY need the periodic data!\n",
    "- Four-square still going strong.\n",
    "- Permutation still predicted as mono - due to strong IOC? I think IOC shouldn't be taken too seriously in this case. Perhaps it would improve with more training data, or I should get rid of the IOC difference.\n",
    "- Hill is pretty much always Vigenere.\n",
    "Tomorrow: get loads more data. Must sort out permutation.\n",
    "\n",
    "Big Issue! We just multiplied the log monograms by 100 and the difference it made was huge! Why is that? Because we gave more space between each and amplified the tiny numbers that were 'close to 0 anyway;? Why does that work?\n",
    "Still not happy with this hill to vigenere stuff but we will sort that out."
   ]
  },
  {
   "cell_type": "code",
   "execution_count": 102,
   "metadata": {},
   "outputs": [
    {
     "name": "stdout",
     "output_type": "stream",
     "text": [
      "Actual:monoalphabetic substitution cipher Predicted:monoalphabetic substitution cipher\n",
      "Actual:Hill cipher Predicted:Vigenere cipher\n",
      "Actual:four-square cipher Predicted:four-square cipher\n",
      "Actual:monoalphabetic substitution cipher Predicted:monoalphabetic substitution cipher\n",
      "Actual:monoalphabetic substitution cipher Predicted:monoalphabetic substitution cipher\n",
      "Actual:monoalphabetic substitution cipher Predicted:monoalphabetic substitution cipher\n",
      "Actual:monoalphabetic substitution cipher Predicted:monoalphabetic substitution cipher\n",
      "Actual:monoalphabetic substitution cipher Predicted:monoalphabetic substitution cipher\n",
      "Actual:monoalphabetic substitution cipher Predicted:monoalphabetic substitution cipher\n",
      "Actual:monoalphabetic substitution cipher Predicted:monoalphabetic substitution cipher\n",
      "Actual:permutation cipher Predicted:permutation cipher\n",
      "Actual:monoalphabetic substitution cipher Predicted:monoalphabetic substitution cipher\n",
      "Actual:Vigenere cipher Predicted:Vigenere cipher\n",
      "Actual:permutation cipher Predicted:permutation cipher\n",
      "Actual:Vigenere cipher Predicted:Vigenere cipher\n",
      "Actual:Vigenere cipher Predicted:monoalphabetic substitution cipher\n",
      "Actual:Hill cipher Predicted:permutation cipher\n",
      "Training accuracy: 0.9333333333333333\n",
      "Actual:monoalphabetic substitution cipher Predicted:Vigenere cipher\n",
      "Actual:Vigenere cipher Predicted:Hill cipher\n",
      "Test accuracy: 0.0\n"
     ]
    }
   ],
   "source": [
    "X.head(20)\n",
    "\n",
    "svc_train_predict(X, y)\n",
    "# honestly not too sure about the impact of logmonogramfitness since it would be linearly seperable either way."
   ]
  },
  {
   "cell_type": "code",
   "execution_count": null,
   "metadata": {},
   "outputs": [],
   "source": []
  },
  {
   "cell_type": "markdown",
   "metadata": {},
   "source": [
    "How about let's move on to random forests, since there is a feature importance report for that? Though for linear svc you could look at the coefficients.\n"
   ]
  },
  {
   "cell_type": "code",
   "execution_count": null,
   "metadata": {},
   "outputs": [],
   "source": []
  },
  {
   "cell_type": "code",
   "execution_count": 103,
   "metadata": {},
   "outputs": [
    {
     "name": "stdout",
     "output_type": "stream",
     "text": [
      "(5, 7)\n",
      "         monog       IOC     bigra     trigr     quadg     diffe     logMo\n",
      "Hill  0.000199 -0.000225  0.000042 -0.000002  0.000004  0.028635  0.014831\n",
      "Vige -0.002751 -0.000731 -0.000129 -0.000021  0.000003  0.088622 -0.000056\n",
      "four -0.055024 -0.003270 -0.000256 -0.000035 -0.000022  0.299296  0.020041\n",
      "mono -0.063992  0.001569  0.000406  0.000232  0.000081 -0.423413 -0.023773\n",
      "perm  0.005479  0.000567 -0.000042 -0.000003 -0.000006 -0.060087  0.137898\n"
     ]
    }
   ],
   "source": [
    "feature_coefficients = svm.coef_\n",
    "classes = map(lambda name: name[:4],svm.classes_)\n",
    "feature_names = map(lambda name: name[:5],svm.feature_names_in_)\n",
    "print(feature_coefficients.shape)\n",
    "# for i, coeff in enumerate(feature_coefficients):\n",
    "#     print(classes[i])\n",
    "#     for j, feature in enumerate(feature_names):\n",
    "#         print(f\" {feature} :\", \"%.6f\" % coeff[j])\n",
    "\n",
    "df = pd.DataFrame(feature_coefficients,index = classes, columns = feature_names)\n",
    "print (df)"
   ]
  },
  {
   "cell_type": "markdown",
   "metadata": {},
   "source": [
    "Unpacking this:\n",
    "First let's look at monoalphabetic. Compared to everyone else, it values the differenceIOC the most - a small change in differenceIOC is weighted to cause a big difference in the agreement, meaning it's very important. This makes sense. We also expected monogramFitness to be valued more.\n",
    "One thing to keep in mind is, since the order of magnitudes of each feature value varies, we should not compare one feature to another, but rather compare one class' one feature to another class' same feature. But of course, the closer to 0 the weight is, the less impact it has.\n",
    "\n",
    "For permutation, we expect a high value for monogramFitness moreso than monoalphabetic, or the log of it. Still not entirely sure how the log would impact it.\n",
    "Am thinking about the ranked monogramFitness since for monoalpha it would be high, but maybe more random for other ciphers. Currently monogramFitness hovers around 0.01-0.02"
   ]
  },
  {
   "cell_type": "markdown",
   "metadata": {},
   "source": [
    "They're all so tiny..."
   ]
  },
  {
   "cell_type": "markdown",
   "metadata": {},
   "source": [
    "Let's get more data and implement the random forest."
   ]
  },
  {
   "cell_type": "markdown",
   "metadata": {},
   "source": [
    "# Random forest "
   ]
  },
  {
   "cell_type": "code",
   "execution_count": null,
   "metadata": {},
   "outputs": [],
   "source": []
  },
  {
   "cell_type": "code",
   "execution_count": 104,
   "metadata": {},
   "outputs": [
    {
     "name": "stdout",
     "output_type": "stream",
     "text": [
      "Actual:monoalphabetic substitution cipher Predicted:monoalphabetic substitution cipher\n",
      "Actual:Hill cipher Predicted:Hill cipher\n",
      "Actual:four-square cipher Predicted:four-square cipher\n",
      "Actual:monoalphabetic substitution cipher Predicted:monoalphabetic substitution cipher\n",
      "Actual:monoalphabetic substitution cipher Predicted:monoalphabetic substitution cipher\n",
      "Actual:monoalphabetic substitution cipher Predicted:monoalphabetic substitution cipher\n",
      "Actual:monoalphabetic substitution cipher Predicted:monoalphabetic substitution cipher\n",
      "Actual:monoalphabetic substitution cipher Predicted:monoalphabetic substitution cipher\n",
      "Actual:monoalphabetic substitution cipher Predicted:monoalphabetic substitution cipher\n",
      "Actual:monoalphabetic substitution cipher Predicted:monoalphabetic substitution cipher\n",
      "Actual:permutation cipher Predicted:permutation cipher\n",
      "Actual:monoalphabetic substitution cipher Predicted:monoalphabetic substitution cipher\n",
      "Actual:Vigenere cipher Predicted:Vigenere cipher\n",
      "Actual:permutation cipher Predicted:permutation cipher\n",
      "Actual:Vigenere cipher Predicted:Vigenere cipher\n",
      "Actual:Vigenere cipher Predicted:Vigenere cipher\n",
      "Actual:Hill cipher Predicted:Hill cipher\n",
      "Training accuracy: 1.0\n",
      "Actual:Vigenere cipher Predicted:Vigenere cipher\n",
      "Actual:Hill cipher Predicted:Hill cipher\n",
      "Actual:monoalphabetic substitution cipher Predicted:monoalphabetic substitution cipher\n",
      "Actual:monoalphabetic substitution cipher Predicted:monoalphabetic substitution cipher\n",
      "Test accuracy: 1.0\n"
     ]
    }
   ],
   "source": [
    "\n",
    "from sklearn.ensemble import RandomForestClassifier\n",
    "\n",
    "rf = RandomForestClassifier()\n",
    "\n",
    "def rf_train_predict(X, y, print_predictions=False, drop_diff=False, drop_logmono=False):\n",
    "    if drop_diff:\n",
    "        X.drop(columns='differenceIOC')\n",
    "    else:\n",
    "        X.drop(columns='IOC')\n",
    "    if drop_logmono:\n",
    "        X.drop(columns='logMonogramFitness')\n",
    "\n",
    "    train_x, test_x, train_y, test_y = model_selection.train_test_split(\n",
    "    X, y, train_size=0.8)\n",
    "\n",
    "    rf.fit(X, y)\n",
    "    if print_predictions:\n",
    "\n",
    "        for predicted, real in zip(rf.predict(X), y):\n",
    "            print(\"Actual:\"+real, \"Predicted:\"+predicted)\n",
    "\n",
    "    print(f\"Training accuracy: {rf.score(train_x,train_y)}\")\n",
    "    \n",
    "    if print_predictions:\n",
    "        for real, predicted in zip(rf.predict(test_x), test_y):\n",
    "            print(\"Actual:\"+real, \"Predicted:\"+predicted)\n",
    "    print(f\"Test accuracy: {rf.score(test_x,test_y)}\")\n",
    "\n",
    "rf_train_predict(X, y, True, True)"
   ]
  },
  {
   "cell_type": "markdown",
   "metadata": {},
   "source": [
    "This is INCREDIBLY accurate compared to SVC! Perhaps this is due to how inherently the classes can be represented as a decision tree, even as a human processing each data point. Let's scale up the data.\n",
    "To summarise what we've done to the data:\n",
    "- extract ciphertext and cipher type\n",
    "- calculate statistics\n",
    "- further process statistics (but might be unneccessary)\n",
    "- group monoalphabetic ciphers with different names, potentially merge variations on a cipher.\n",
    "Upon expanding the data set, 2021 has a format of \"cipher: Caesar shift\" which means it's best to clean up row by row, looping through keywords instead. This change is reflected in the extractData_clean.py.\n",
    "\n",
    "For now we'll have to have things like permutation, stream etc all lumped together before I find an efficient way of extracting the essence of the cipher type. Perhaps manually. Or borrow an LLM."
   ]
  },
  {
   "cell_type": "code",
   "execution_count": 105,
   "metadata": {},
   "outputs": [
    {
     "name": "stdout",
     "output_type": "stream",
     "text": [
      "0                           monoalphabetic substitution\n",
      "1                           monoalphabetic substitution\n",
      "2                                columnar transposition\n",
      "3                                     modified Playfair\n",
      "4                           monoalphabetic substitution\n",
      "5                           monoalphabetic substitution\n",
      "6                           monoalphabetic substitution\n",
      "7                           monoalphabetic substitution\n",
      "8                           monoalphabetic substitution\n",
      "9                           monoalphabetic substitution\n",
      "10                          monoalphabetic substitution\n",
      "11    monoalphabetic substitution (from Morse code w...\n",
      "12                                            railfence\n",
      "13    Vigenere (from Morse code with A = dot and D =...\n",
      "14                               columnar transposition\n",
      "15                             Vigenere (reversed text)\n",
      "16                                             Vigenere\n",
      "17                               columnar transposition\n",
      "18                                            2x2 Hill \n",
      "19                          monoalphabetic substitution\n",
      "20                          monoalphabetic substitution\n",
      "21                                                Hill \n",
      "22                                    modified Cadenus \n",
      "23                          monoalphabetic substitution\n",
      "24                          monoalphabetic substitution\n",
      "25                          monoalphabetic substitution\n",
      "26                          monoalphabetic substitution\n",
      "27                          monoalphabetic substitution\n",
      "28                         monoalphabetic substitution \n",
      "29                         monoalphabetic substitution \n",
      "30                         monoalphabetic substitution \n",
      "31                                         permutation \n",
      "32                                           railfence \n",
      "33                                         permutation \n",
      "34                                            Vigenere \n",
      "35                                            Vigenere \n",
      "36                                            Vigenere \n",
      "37    encrypted in blocks of 35 characters, each wit...\n",
      "38                                            Vigenere \n",
      "39    encrypted in blocks of 21 letters with a colum...\n",
      "40                         monoalphabetic substitution \n",
      "41                                                Hill \n",
      "42                                         four-square \n",
      "43                          monoalphabetic substitution\n",
      "44                          monoalphabetic substitution\n",
      "45                          monoalphabetic substitution\n",
      "46                         monoalphabetic substitution \n",
      "47                         monoalphabetic substitution \n",
      "48                         monoalphabetic substitution \n",
      "49                         monoalphabetic substitution \n",
      "50                                         permutation \n",
      "51                         monoalphabetic substitution \n",
      "52                                            Vigenere \n",
      "53                                         permutation \n",
      "54                                            Vigenere \n",
      "55                                            Vigenere \n",
      "56                                                Hill \n",
      "Name: CipherType, dtype: object\n"
     ]
    }
   ],
   "source": [
    "cipher_data = pd.read_csv(\"2021-23_ciphertext_data_stats.csv\")\n",
    "print(cipher_data['CipherType'])\n",
    "# at this point it would be convenient to have data reading as a function.\n"
   ]
  },
  {
   "cell_type": "code",
   "execution_count": 106,
   "metadata": {},
   "outputs": [
    {
     "name": "stdout",
     "output_type": "stream",
     "text": [
      "(57,)\n",
      "Training accuracy: 1.0\n",
      "Test accuracy: 1.0\n"
     ]
    }
   ],
   "source": [
    "filename = \"2021-23_ciphertext_data_stats.csv\"\n",
    "def get_X_y(filename):\n",
    "    cipher_stats = pd.read_csv(filename)\n",
    "    \n",
    "    y = cipher_stats.pop('CipherType')\n",
    "    X = cipher_stats.drop(['Ciphertext', 'lengthStats'], axis=1) # remove columns (axis 1)\n",
    "    print(y.shape\n",
    "          )\n",
    "    return X, y\n",
    "rf_train_predict(*get_X_y(filename))\n"
   ]
  },
  {
   "cell_type": "markdown",
   "metadata": {},
   "source": [
    "The astonishing accuracy makes me suspect that there might be overfitting. 57 examples. But it's performing well on test data. If fixing is needed we need \"k-fold validation\" to look up later."
   ]
  },
  {
   "cell_type": "code",
   "execution_count": 107,
   "metadata": {},
   "outputs": [],
   "source": [
    "def test_predict():\n",
    "    with open(\"test_ciphertext.txt\", 'r') as f:\n",
    "        ciphertext = f.read()\n",
    "        c = pd.DataFrame([getStatistics(ciphertext)])\n",
    "        print(c)\n",
    "        c.drop([\"lengthStats\"], axis=1, inplace=True)\n",
    "        label = rf.predict(c)\n",
    "        print(c, label)\n"
   ]
  },
  {
   "cell_type": "markdown",
   "metadata": {},
   "source": [
    "On second thought, it will only be some more complex training examples lost if our cipher type extraction technique fails on older data. It's time to give the whole set a try."
   ]
  },
  {
   "cell_type": "code",
   "execution_count": 110,
   "metadata": {},
   "outputs": [
    {
     "name": "stdout",
     "output_type": "stream",
     "text": [
      "(17,)\n",
      "Actual:monoalphabetic substitution Predicted:monoalphabetic substitution\n",
      "True\n",
      "Actual:monoalphabetic substitution Predicted:monoalphabetic substitution \n",
      "False\n",
      "Actual:monoalphabetic substitution Predicted:monoalphabetic substitution\n",
      "True\n",
      "Actual:monoalphabetic substitution Predicted:monoalphabetic substitution\n",
      "True\n",
      "Actual:monoalphabetic substitution Predicted:monoalphabetic substitution \n",
      "False\n",
      "Actual:monoalphabetic substitution Predicted:monoalphabetic substitution\n",
      "True\n",
      "Actual:monoalphabetic substitution Predicted:monoalphabetic substitution \n",
      "False\n",
      "Actual:columnar transposition  Predicted:columnar transposition\n",
      "False\n",
      "Actual:monoalphabetic substitution Predicted:monoalphabetic substitution\n",
      "True\n",
      "Actual:first, reverse the text Predicted:Vigenere \n",
      "False\n",
      "Actual:Vigenere  Predicted:monoalphabetic substitution \n",
      "False\n",
      "Actual:monoalphabetic substitution Predicted:monoalphabetic substitution\n",
      "True\n",
      "Actual:First, reverse the text; then it is a Predicted:monoalphabetic substitution\n",
      "False\n",
      "Actual:First, do a matrix transposition by writing the text Predicted:Vigenere \n",
      "False\n",
      "Actual:Trithemius  Predicted:Vigenere \n",
      "False\n",
      "Actual:Polybius square  Predicted:monoalphabetic substitution \n",
      "False\n",
      "Actual:First, reverse the text, then Predicted:Vigenere \n",
      "False\n",
      "0.35294117647058826\n"
     ]
    }
   ],
   "source": [
    "def rf_predict(filename):\n",
    "    X, y = get_X_y(filename)\n",
    "    # label = rf.predict(cipher_stats)\n",
    "    for predicted, real in zip(rf.predict(X), y):\n",
    "        print(\"Actual:\"+real, \"Predicted:\"+predicted)\n",
    "        print(predicted == real)\n",
    "    print(rf.score(X, y))\n",
    "\n",
    "rf_predict(\"2019_ciphertext_data_stats.csv\")"
   ]
  },
  {
   "cell_type": "markdown",
   "metadata": {},
   "source": [
    "Here comes another problem: my non-centrally managed data cleansing has failed me. \n",
    "1. FIXED STRIP - any whitespace meant it was being considered another class. \n",
    "2. any cipher slightly contrived, hidden in a sentence, was not in the set - we ended up with all mono.\n",
    "3. permutation cipher (block transposition) this type of names seem to vary more.\n",
    "4. ciphers with weird symbols e.g. 2020 7B cipher clock, I think thingsl ike # and + - are they standard? treated as letters? that would need ioc to apply to them as well else results skewed.\n",
    "5. ADFVGX understandably the model had never seen.\n",
    "6. Some errors in Vigenere?\n",
    "7. 2005 was pretty much all morse encrypted - a decoder would be nice but perhaps we don't absolutely need that year's data?\n",
    "8. Sometimes it's funky giving pdfs or images instead of .txt for ciphertext and solution\n",
    "9. Still problems with combinations - 2019 6B\n",
    "10. \"firstly, reverse the text, then \\n vigenere\" and \"First, do a matrix transposition...vigenere\" predicted vigenere, marked wrong. These are sort of transposition + vigenere. By what I've seen so far, the transposition doesn't affect it being identified as vigenere. Just a note, if it says it's vigenere, decrypt it seems like rubbish - predict again. \n",
    "two ways to fix this combo problem: get a list of all the ciphers we've worked on to search the whole solution.txt or include the second line for the mono we can actually detect rn.\n",
    "11. idea: if prime, factors of length list has length 2, meaning cannot be hill but i think we're doing well enough.\n",
    "\n"
   ]
  },
  {
   "cell_type": "code",
   "execution_count": null,
   "metadata": {},
   "outputs": [
    {
     "name": "stdout",
     "output_type": "stream",
     "text": [
      "Factors of length:  [1, 2, 3, 6, 373, 746, 1119, 2238]\n",
      "                          lengthStats  monogramFitness       IOC  bigramIOC  \\\n",
      "0  [1, 2, 3, 6, 373, 746, 1119, 2238]          0.78451  0.040864   0.002002   \n",
      "\n",
      "   trigramIOC  quadgramFrequenciesScore  \n",
      "0    0.000432             -53182.514438  \n",
      "   monogramFitness       IOC  bigramIOC  trigramIOC  quadgramFrequenciesScore\n",
      "0          0.78451  0.040864   0.002002    0.000432             -53182.514438 ['Vigenere ']\n"
     ]
    }
   ],
   "source": [
    "test_predict() # just a test for 2019 6B - gave vigenere but should be block transposition and monoalphabetic substitution. "
   ]
  },
  {
   "cell_type": "markdown",
   "metadata": {},
   "source": [
    "Right now I need to do this for a whole\n",
    "# Process for someone who's just downloaded the code\n",
    "- train the model\n",
    "- convert the ciphertext to a one-row dataframe\n",
    "- rf.predict(df)\n",
    "- print result"
   ]
  }
 ],
 "metadata": {
  "kernelspec": {
   "display_name": "titanic",
   "language": "python",
   "name": "python3"
  },
  "language_info": {
   "codemirror_mode": {
    "name": "ipython",
    "version": 3
   },
   "file_extension": ".py",
   "mimetype": "text/x-python",
   "name": "python",
   "nbconvert_exporter": "python",
   "pygments_lexer": "ipython3",
   "version": "3.12.6"
  }
 },
 "nbformat": 4,
 "nbformat_minor": 2
}
